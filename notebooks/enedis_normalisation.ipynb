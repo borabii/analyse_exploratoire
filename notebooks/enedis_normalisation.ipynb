{
 "cells": [
  {
   "cell_type": "code",
   "execution_count": 2,
   "id": "b15ff336-2093-42f2-a4ae-a49cf1cb19ac",
   "metadata": {},
   "outputs": [
    {
     "name": "stderr",
     "output_type": "stream",
     "text": [
      "Setting default log level to \"WARN\".\n",
      "To adjust logging level use sc.setLogLevel(newLevel). For SparkR, use setLogLevel(newLevel).\n",
      "24/08/30 16:26:36 WARN NativeCodeLoader: Unable to load native-hadoop library for your platform... using builtin-java classes where applicable\n"
     ]
    }
   ],
   "source": [
    "from pyspark.sql import SparkSession\n",
    "from pyspark.sql.functions import concat_ws, col, lower, regexp_replace,concat\n",
    "\n",
    "spark = SparkSession.builder \\\n",
    ".appName('dpe_existants_rawdata_dl_job') \\\n",
    ".master('spark://spark-master:7077') \\\n",
    ".config(\"spark.hadoop.fs.defaultFS\", \"hdfs://namenode:9000\") \\\n",
    ".config('spark.ui.port', '4041') \\\n",
    ".getOrCreate()\n"
   ]
  },
  {
   "cell_type": "code",
   "execution_count": 66,
   "id": "98d3938b-4600-4201-bef8-9d773077179d",
   "metadata": {},
   "outputs": [],
   "source": [
    "enedis_2023 = spark.read.csv('hdfs:///hadoop/dfs/data/enedis/raw_data/consommation-annuelle-residentielle_2023.csv',sep=';',header=True)\n",
    "\n",
    "df = enedis_2023.withColumn(\"adresse_brute\", concat_ws(\" \",\n",
    "    col(\"adresse\"),\n",
    "    col(\"code_commune\"),\n",
    "    col(\"nom_commune\")\n",
    "))\n",
    "enedis_normaliser = df.withColumn(\"adresse_brute\", lower(regexp_replace(col(\"adresse_brute\"), r\"\\s+\", \" \")))"
   ]
  },
  {
   "cell_type": "code",
   "execution_count": 58,
   "id": "4c0bb8a5-b6b0-4b5e-b546-4a1f988a1b3c",
   "metadata": {},
   "outputs": [
    {
     "name": "stdout",
     "output_type": "stream",
     "text": [
      "+--------------------+\n",
      "|       adresse_brute|\n",
      "+--------------------+\n",
      "|18 rue du chasnot...|\n",
      "|15 rue du chasnot...|\n",
      "|1 rue du languedo...|\n",
      "|7 rue du lycee 25...|\n",
      "|16 rue du lycee 2...|\n",
      "|1 rue du lycee 25...|\n",
      "|13 rue du muguet ...|\n",
      "|4 rue du palais 2...|\n",
      "|13 rue du palais ...|\n",
      "|7 rue du petit ba...|\n",
      "+--------------------+\n",
      "only showing top 10 rows\n",
      "\n"
     ]
    }
   ],
   "source": [
    "enedis_normaliser.select(\"adresse_brute\").show(10)"
   ]
  },
  {
   "cell_type": "code",
   "execution_count": 11,
   "id": "191dd549-f65a-4255-8533-cd944b7ac8b0",
   "metadata": {},
   "outputs": [
    {
     "name": "stderr",
     "output_type": "stream",
     "text": [
      "                                                                                \r"
     ]
    }
   ],
   "source": [
    "ban = spark.read.csv('hdfs:///hadoop/dfs/data/base-adresse-national/',sep=';',header=True)\n"
   ]
  },
  {
   "cell_type": "code",
   "execution_count": 15,
   "id": "5a4c10a0-3f0d-46c6-863d-f4645e1786ae",
   "metadata": {},
   "outputs": [],
   "source": [
    "# Création d'une colonne adresse normalisée dans le DataFrame de la BAN\n",
    "ban_normaliser = ban.withColumn(\"adresse_normalisee_insee\", concat_ws(\" \",\n",
    "    col(\"numero\"),\n",
    "    col(\"nom_voie\"),\n",
    "    col(\"code_insee\"),\n",
    "    col(\"nom_commune\")\n",
    "))\n",
    "ban_normaliser = ban_normaliser.withColumn(\"adresse_normalisee_insee\", lower(regexp_replace(col(\"adresse_normalisee_insee\"), r\"\\s+\", \" \")))"
   ]
  },
  {
   "cell_type": "code",
   "execution_count": 67,
   "id": "74605bd6-1cbe-4645-b4c8-98c922a726ec",
   "metadata": {},
   "outputs": [
    {
     "name": "stderr",
     "output_type": "stream",
     "text": [
      "                                                                                \r"
     ]
    },
    {
     "name": "stdout",
     "output_type": "stream",
     "text": [
      "+------------------------------------------------------+\n",
      "|adresse_brute                                         |\n",
      "+------------------------------------------------------+\n",
      "|296 avenue aristide briand 92007 bagneux              |\n",
      "|6 avenue mary 92009 bois-colombes                     |\n",
      "|3 rue philippe de metz 92009 bois-colombes            |\n",
      "|5 rue gilbert rousset 92004 asnières-sur-seine        |\n",
      "|134 avenue henri barbusse 92004 asnières-sur-seine    |\n",
      "|4 rue maurice bokanowski 92004 asnières-sur-seine     |\n",
      "|5 rue neuve des mourinoux 92004 asnières-sur-seine    |\n",
      "|17 rue des iris 92002 antony                          |\n",
      "|51 avenue raymond aron 92002 antony                   |\n",
      "|16 avenue de la providence 92002 antony               |\n",
      "|48 rue de garches 92076 vaucresson                    |\n",
      "|104 rue sadi carnot 92075 vanves                      |\n",
      "|26 avenue jean perrin 92071 sceaux                    |\n",
      "|8 place henri iv 92073 suresnes                       |\n",
      "|1 rue des bas rogers 92073 suresnes                   |\n",
      "|14 boulevard louis loucheur 92073 suresnes            |\n",
      "|5 rue preschez 92064 saint-cloud                      |\n",
      "|3 square victor fleming 92060 le plessis-robinson     |\n",
      "|9 square victor fleming 92060 le plessis-robinson     |\n",
      "|1 rue du pr robert fasquelle 92060 le plessis-robinson|\n",
      "+------------------------------------------------------+\n",
      "only showing top 20 rows\n",
      "\n"
     ]
    },
    {
     "name": "stderr",
     "output_type": "stream",
     "text": [
      "[Stage 124:>                                                        (0 + 1) / 1]\r"
     ]
    },
    {
     "name": "stdout",
     "output_type": "stream",
     "text": [
      "-RECORD 0---------------------------------------------------------------------------------------------\n",
      " annee                                                   | 2023                                       \n",
      " code_iris                                               | 590090206                                  \n",
      " nom_iris                                                | Château                                    \n",
      " numero_de_voie                                          | 1                                          \n",
      " indice_de_repetition                                    | NULL                                       \n",
      " type_de_voie                                            | ALLEE                                      \n",
      " libelle_de_voie                                         | CHANTECLER                                 \n",
      " code_commune                                            | 59009                                      \n",
      " nom_commune                                             | Villeneuve-d'Ascq                          \n",
      " segment_de_client                                       | RESIDENTIEL                                \n",
      " nombre_de_logements                                     | 31                                         \n",
      " consommation_annuelle_totale_de_l_adresse_mwh           | 277.497                                    \n",
      " consommation_annuelle_moyenne_par_site_de_l_adresse_mwh | 8.952                                      \n",
      " consommation_annuelle_moyenne_de_la_commune_mwh         | 3.155                                      \n",
      " adresse                                                 | 1 ALLEE CHANTECLER                         \n",
      " code_epci                                               | 200093201                                  \n",
      " code_departement                                        | 59                                         \n",
      " code_region                                             | 32                                         \n",
      " tri_des_adresses                                        | 380405                                     \n",
      " adresse_brute                                           | 1 allee chantecler 59009 villeneuve-d'ascq \n",
      " adresse_normalisee_insee                                | 1 allee chantecler 59009 villeneuve-d'ascq \n",
      " id                                                      | 59009_2940_00001                           \n",
      "only showing top 1 row\n",
      "\n"
     ]
    },
    {
     "name": "stderr",
     "output_type": "stream",
     "text": [
      "                                                                                \r"
     ]
    }
   ],
   "source": [
    "# Réaliser la jointure avec les conditions multiples\n",
    "enedis_join_ban = enedis_normaliser.join(ban_normaliser.select(\"adresse_normalisee_insee\", \"id\"), enedis_normaliser.adresse_brute == ban_normaliser.adresse_normalisee_insee, how=\"inner\")\n",
    "distinct_values = enedis_join_ban.select(\"adresse_brute\").distinct()\n",
    "distinct_values.show(truncate=False)\n",
    "\n",
    "# Affichage du résultat\n",
    "enedis_join_ban.show(1,truncate=False,vertical=True)"
   ]
  },
  {
   "cell_type": "code",
   "execution_count": 68,
   "id": "341c17d9-8e81-44dd-9177-6b873adb0ad2",
   "metadata": {},
   "outputs": [
    {
     "name": "stderr",
     "output_type": "stream",
     "text": [
      "                                                                                \r"
     ]
    },
    {
     "data": {
      "text/plain": [
       "248893"
      ]
     },
     "execution_count": 68,
     "metadata": {},
     "output_type": "execute_result"
    }
   ],
   "source": [
    "enedis_join_ban.count()"
   ]
  },
  {
   "cell_type": "code",
   "execution_count": 69,
   "id": "e0443be3-af8e-4de4-8f6f-85258479d914",
   "metadata": {},
   "outputs": [
    {
     "name": "stderr",
     "output_type": "stream",
     "text": [
      "                                                                                \r"
     ]
    }
   ],
   "source": [
    "# Réduire le DataFrame à une seule partition\n",
    "single_partition_df = enedis_join_ban.coalesce(1)\n",
    "\n",
    "# Écrire le DataFrame en un seul fichier CSV \n",
    "single_partition_df.write.mode('overwrite').format('csv') \\\n",
    "    .option(\"path\", \"hdfs:///hadoop/dfs/data/enedis/staging/consommation-annuelle-residentielle_2023.csv\") \\\n",
    "    .option(\"sep\", \";\")  \\\n",
    "    .option(\"header\", \"true\").save()   "
   ]
  },
  {
   "cell_type": "code",
   "execution_count": 70,
   "id": "c64e3208-5a3f-4033-b99b-101bda13ddd9",
   "metadata": {},
   "outputs": [
    {
     "name": "stderr",
     "output_type": "stream",
     "text": [
      "                                                                                \r"
     ]
    }
   ],
   "source": [
    "a = spark.read.csv('hdfs:///hadoop/dfs/data/enedis/staging/consommation-annuelle-residentielle_2022.csv',sep=';',header=True)\n"
   ]
  },
  {
   "cell_type": "code",
   "execution_count": 71,
   "id": "6dd8b43f-f07e-46b1-8cf6-f082ddb841d6",
   "metadata": {},
   "outputs": [
    {
     "name": "stdout",
     "output_type": "stream",
     "text": [
      "root\n",
      " |-- annee: string (nullable = true)\n",
      " |-- code_iris: string (nullable = true)\n",
      " |-- nom_iris: string (nullable = true)\n",
      " |-- numero_de_voie: string (nullable = true)\n",
      " |-- indice_de_repetition: string (nullable = true)\n",
      " |-- type_de_voie: string (nullable = true)\n",
      " |-- libelle_de_voie: string (nullable = true)\n",
      " |-- code_commune: string (nullable = true)\n",
      " |-- nom_commune: string (nullable = true)\n",
      " |-- segment_de_client: string (nullable = true)\n",
      " |-- nombre_de_logements: string (nullable = true)\n",
      " |-- consommation_annuelle_totale_de_l_adresse_mwh: string (nullable = true)\n",
      " |-- consommation_annuelle_moyenne_par_site_de_l_adresse_mwh: string (nullable = true)\n",
      " |-- consommation_annuelle_moyenne_de_la_commune_mwh: string (nullable = true)\n",
      " |-- adresse: string (nullable = true)\n",
      " |-- code_epci: string (nullable = true)\n",
      " |-- code_departement: string (nullable = true)\n",
      " |-- code_region: string (nullable = true)\n",
      " |-- tri_des_adresses: string (nullable = true)\n",
      " |-- adresse_brute: string (nullable = true)\n",
      " |-- adresse_normalisee_insee: string (nullable = true)\n",
      " |-- id: string (nullable = true)\n",
      "\n"
     ]
    }
   ],
   "source": [
    "a.printSchema()"
   ]
  }
 ],
 "metadata": {
  "kernelspec": {
   "display_name": "Python 3 (ipykernel)",
   "language": "python",
   "name": "python3"
  },
  "language_info": {
   "codemirror_mode": {
    "name": "ipython",
    "version": 3
   },
   "file_extension": ".py",
   "mimetype": "text/x-python",
   "name": "python",
   "nbconvert_exporter": "python",
   "pygments_lexer": "ipython3",
   "version": "3.11.6"
  }
 },
 "nbformat": 4,
 "nbformat_minor": 5
}
