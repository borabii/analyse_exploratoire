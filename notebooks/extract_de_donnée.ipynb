{
 "cells": [
  {
   "cell_type": "code",
   "execution_count": 1,
   "id": "fd4480b9-63ff-491b-b954-0aabd7ccd189",
   "metadata": {},
   "outputs": [
    {
     "name": "stderr",
     "output_type": "stream",
     "text": [
      "Setting default log level to \"WARN\".\n",
      "To adjust logging level use sc.setLogLevel(newLevel). For SparkR, use setLogLevel(newLevel).\n",
      "24/08/29 15:57:48 WARN NativeCodeLoader: Unable to load native-hadoop library for your platform... using builtin-java classes where applicable\n"
     ]
    }
   ],
   "source": [
    "from pyspark.sql import SparkSession\n",
    "from pyspark.sql.functions import concat_ws, col, lower, regexp_replace\n",
    "\n",
    "spark = SparkSession.builder \\\n",
    ".appName('dpe_existants_rawdata_dl_job') \\\n",
    ".master('spark://spark-master:7077') \\\n",
    ".config(\"spark.hadoop.fs.defaultFS\", \"hdfs://namenode:9000\") \\\n",
    ".config('spark.ui.port', '4041') \\\n",
    ".getOrCreate()"
   ]
  },
  {
   "cell_type": "code",
   "execution_count": 21,
   "id": "e10e39b4-80c4-47ff-b6cc-f33af8a55eea",
   "metadata": {},
   "outputs": [
    {
     "name": "stderr",
     "output_type": "stream",
     "text": [
      "                                                                                \r"
     ]
    }
   ],
   "source": [
    "enedis = spark.read.csv('hdfs:///hadoop/dfs/data/enedis/raw_data/consommation-annuelle-residentielle_2021.csv',sep=';',header=True)\n",
    "dpe = spark.read.parquet('hdfs:////hadoop/dfs/data/DPE/raw_data/dpe_logements_existants/lot/')\n",
    "ban = spark.read.csv('hdfs:///hadoop/dfs/data/base-adresse-national/',sep=';',header=True)\n",
    "\n",
    "# dpe_filtrer = dpe.filter(col('Code_postal_(BAN)').startswith('92'))\n",
    "# enedis_filtrer = enedis.filter(col('code_commune').startswith('92'))"
   ]
  },
  {
   "cell_type": "code",
   "execution_count": 3,
   "id": "4533e781-8434-4f78-9eff-c26d69ae9d61",
   "metadata": {},
   "outputs": [
    {
     "name": "stderr",
     "output_type": "stream",
     "text": [
      "                                                                                \r"
     ]
    },
    {
     "data": {
      "text/plain": [
       "407053"
      ]
     },
     "execution_count": 3,
     "metadata": {},
     "output_type": "execute_result"
    }
   ],
   "source": [
    "enedis.count()"
   ]
  },
  {
   "cell_type": "code",
   "execution_count": 23,
   "id": "b49ab10b-6ddc-4e7b-bcf9-4a66daccc650",
   "metadata": {},
   "outputs": [
    {
     "data": {
      "text/plain": [
       "87109"
      ]
     },
     "execution_count": 23,
     "metadata": {},
     "output_type": "execute_result"
    }
   ],
   "source": [
    "dpe.count()"
   ]
  },
  {
   "cell_type": "code",
   "execution_count": 5,
   "id": "3e55b40a-8fbc-4472-9ba0-a2fd8ec05ada",
   "metadata": {},
   "outputs": [
    {
     "name": "stderr",
     "output_type": "stream",
     "text": [
      "                                                                                \r"
     ]
    },
    {
     "data": {
      "text/plain": [
       "25423678"
      ]
     },
     "execution_count": 5,
     "metadata": {},
     "output_type": "execute_result"
    }
   ],
   "source": [
    "ban.count()"
   ]
  },
  {
   "cell_type": "code",
   "execution_count": null,
   "id": "2aa18d74-003e-4403-a8ec-3114c2286ff6",
   "metadata": {},
   "outputs": [],
   "source": [
    "# Normalisation des adresses\n",
    "df = enedis.withColumn(\"adresse_brute\", concat_ws(\" \",\n",
    "    col(\"adresse\"),\n",
    "    col(\"code_commune\"),\n",
    "    col(\"nom_commune\")\n",
    "))\n",
    "enedis_normaliser = df.withColumn(\"adresse_brute\", lower(regexp_replace(col(\"adresse_brute\"), r\"\\s+\", \" \")))\n",
    "distinct_values = enedis_normaliser.select(\"adresse_brute\").distinct()\n",
    "distinct_values.show(truncate=False)\n",
    "df2 = dpe.withColumn(\"adresse_brute\", concat_ws(\" \",\n",
    "    col('N°_voie_(BAN)'),\n",
    "    col(\"Nom__rue_(BAN)\"),\n",
    "    col(\"Code_postal_(BAN)\"),\n",
    "    col(\"Nom__commune_(BAN)\")\n",
    "))\n",
    "dpe_normaliser = df2.withColumn(\"adresse_brute\", lower(regexp_replace(col(\"adresse_brute\"), r\"\\s+\", \" \")))\n",
    "distinct_values = dpe_normaliser.select(\"adresse_brute\").distinct()\n",
    "distinct_values.show(truncate=False)\n",
    "\n",
    "# Création d'une colonne adresse normalisée dans le DataFrame de la BAN\n",
    "ban_normalisee = ban.withColumn(\"adresse_normalisee\", concat_ws(\" \",\n",
    "    col(\"numero\"),\n",
    "    col(\"rep\"),\n",
    "    col(\"nom_voie\"),\n",
    "    col(\"code_postal\"),\n",
    "    col(\"nom_commune\")\n",
    "))\n",
    "ban_normaliser = ban_normalisee.withColumn(\"adresse_normalisee\", lower(regexp_replace(col(\"adresse_normalisee\"), r\"\\s+\", \" \")))\n",
    "distinct_values = ban_normaliser.select(\"adresse_normalisee\").distinct()\n",
    "distinct_values.show(truncate=False)\n",
    "\n",
    "# Création d'une colonne adresse normalisée dans le DataFrame de la BAN\n",
    "ban_normaliser = ban_normaliser.withColumn(\"adresse_normalisee_insee\", concat_ws(\" \",\n",
    "    col(\"numero\"),\n",
    "    col(\"rep\"),\n",
    "    col(\"nom_voie\"),\n",
    "    col(\"code_insee\"),\n",
    "    col(\"nom_commune\")\n",
    "))\n",
    "ban_normaliser = ban_normaliser.withColumn(\"adresse_normalisee_insee\", lower(regexp_replace(col(\"adresse_normalisee_insee\"), r\"\\s+\", \" \")))\n",
    "distinct_values = ban_normaliser.select(\"adresse_normalisee_insee\").distinct()\n",
    "distinct_values.show(truncate=False)"
   ]
  },
  {
   "cell_type": "code",
   "execution_count": null,
   "id": "c6992078-88cd-43f2-b3da-10eca67c8221",
   "metadata": {},
   "outputs": [],
   "source": [
    "ban_normaliser.show(1,vertical=True)"
   ]
  },
  {
   "cell_type": "code",
   "execution_count": 43,
   "id": "6e4d7e97-088b-45cc-983a-bad60bdc7b6c",
   "metadata": {},
   "outputs": [
    {
     "name": "stderr",
     "output_type": "stream",
     "text": [
      "                                                                                \r"
     ]
    }
   ],
   "source": [
    "a = spark.read.parquet('hdfs:////hadoop/dfs/data/DPE/raw_data/dpe_logements_existants/lot_2/')\n",
    "df2 = a.withColumn(\"adresse_brute\", concat_ws(\" \",\n",
    "    col('N°_voie_(BAN)'),\n",
    "    col(\"Nom__rue_(BAN)\"),\n",
    "    col(\"Code_postal_(BAN)\"),\n",
    "    col(\"Nom__commune_(BAN)\")\n",
    "))\n",
    "dpe_normaliser = df2.withColumn(\"adresse_brute\", lower(regexp_replace(col(\"adresse_brute\"), r\"\\s+\", \" \")))"
   ]
  },
  {
   "cell_type": "code",
   "execution_count": 44,
   "id": "5dbf7453-e7f5-4485-aef9-f7d71a26381d",
   "metadata": {},
   "outputs": [
    {
     "name": "stderr",
     "output_type": "stream",
     "text": [
      "[Stage 170:====================================================>  (25 + 1) / 26]\r"
     ]
    },
    {
     "name": "stdout",
     "output_type": "stream",
     "text": [
      "+----------------+\n",
      "|id              |\n",
      "+----------------+\n",
      "|92004_4130_00008|\n",
      "|92002_8115_00003|\n",
      "|92063_2890_00012|\n",
      "|92063_2890_00088|\n",
      "|92049_8155_00004|\n",
      "|92050_4140_00334|\n",
      "|92044_1451_00102|\n",
      "|92044_8141_00006|\n",
      "|92024_4420_00044|\n",
      "|92020_6185_00013|\n",
      "|92019_6146_00004|\n",
      "|92004_0670_00001|\n",
      "|92078_4500_00014|\n",
      "|92051_8880_00019|\n",
      "|92050_6205_00006|\n",
      "|92044_7140_00014|\n",
      "|92026_8130_00020|\n",
      "|92025_4442_00156|\n",
      "|92012_1425_00082|\n",
      "|92012_4110_00093|\n",
      "+----------------+\n",
      "only showing top 20 rows\n",
      "\n"
     ]
    },
    {
     "name": "stderr",
     "output_type": "stream",
     "text": [
      "                                                                                \r"
     ]
    }
   ],
   "source": [
    "#join dpe normaliser avec la base ban \n",
    "dpe_join_ban = dpe_normaliser.join(ban_normaliser.select(\"adresse_normalisee\", \"id\"), dpe_normaliser.adresse_brute == ban_normaliser.adresse_normalisee, how=\"inner\")\n",
    "distinct_values = dpe_join_ban.select(\"id\").distinct()\n",
    "distinct_values.show(truncate=False)"
   ]
  },
  {
   "cell_type": "code",
   "execution_count": 45,
   "id": "1070d88a-1675-4712-be26-3a8a98ab776d",
   "metadata": {},
   "outputs": [
    {
     "name": "stderr",
     "output_type": "stream",
     "text": [
      "                                                                                \r"
     ]
    },
    {
     "data": {
      "text/plain": [
       "59999"
      ]
     },
     "execution_count": 45,
     "metadata": {},
     "output_type": "execute_result"
    }
   ],
   "source": [
    "dpe_join_ban.count()"
   ]
  },
  {
   "cell_type": "code",
   "execution_count": 46,
   "id": "385f356a-5c56-4569-a007-9b21c342c02b",
   "metadata": {},
   "outputs": [
    {
     "name": "stderr",
     "output_type": "stream",
     "text": [
      "                                                                                \r"
     ]
    }
   ],
   "source": [
    "dpe_join_ban.write.mode('overwrite').partitionBy('Année').format('parquet') \\\n",
    "    .option(\"path\", \"hdfs:///hadoop/dfs/data/DPE/staging/dpe_logements_existants/lot_2/\") \\\n",
    "    .saveAsTable(\"dpe_logements_existants_normalized\")"
   ]
  },
  {
   "cell_type": "code",
   "execution_count": null,
   "id": "fcdbd370-196b-4f22-b173-da80095ed51c",
   "metadata": {},
   "outputs": [],
   "source": []
  },
  {
   "cell_type": "code",
   "execution_count": null,
   "id": "121ce547-0adc-4a88-afc5-bb6c2b5c6ab0",
   "metadata": {},
   "outputs": [],
   "source": []
  },
  {
   "cell_type": "code",
   "execution_count": null,
   "id": "eaba4eb3-c012-4be8-aa10-2e8cb9b85a51",
   "metadata": {},
   "outputs": [],
   "source": []
  },
  {
   "cell_type": "code",
   "execution_count": null,
   "id": "c838d673-ac73-408e-8ba3-25522f4a6547",
   "metadata": {},
   "outputs": [],
   "source": []
  },
  {
   "cell_type": "code",
   "execution_count": null,
   "id": "9de9b3b1-bba9-4b23-b808-86441cc5ad3f",
   "metadata": {},
   "outputs": [],
   "source": []
  },
  {
   "cell_type": "code",
   "execution_count": 47,
   "id": "6eb22bfa-f859-4cde-ab2f-9d187a6d690b",
   "metadata": {},
   "outputs": [
    {
     "name": "stderr",
     "output_type": "stream",
     "text": [
      "[Stage 182:====================================================>  (18 + 1) / 19]\r"
     ]
    },
    {
     "name": "stdout",
     "output_type": "stream",
     "text": [
      "+-------------------------------------------------------+\n",
      "|adresse_brute                                          |\n",
      "+-------------------------------------------------------+\n",
      "|1 rue de la mairie 69205 saint-genis-les-ollières      |\n",
      "|5 avenue foch 59378 marcq-en-barœul                    |\n",
      "|39 boulevard baptiste bonnet 13055 marseille           |\n",
      "|7 traverse chante perdrix 13055 marseille              |\n",
      "|97 allee de la rouguiere 13055 marseille               |\n",
      "|12 rue guy de combaud roquebrune 13055 marseille       |\n",
      "|2 rue marie de coulange 13055 marseille                |\n",
      "|412 boulevard national 13055 marseille                 |\n",
      "|128 boulevard notre dame 13055 marseille               |\n",
      "|27 boulevard paul bouygues 13055 marseille             |\n",
      "|171 avenue general leclerc 83118 saint-raphaël         |\n",
      "|47 rue des deportes 44190 saint-sébastien-sur-loire    |\n",
      "|1 rue des deportes 44190 saint-sébastien-sur-loire     |\n",
      "|10 rue a briand et de la paix 42218 saint-étienne      |\n",
      "|2 rue claude jury 42218 saint-étienne                  |\n",
      "|12 place jacques duclos 42218 saint-étienne            |\n",
      "|9 rue du morvan 76575 saint-étienne-du-rouvray         |\n",
      "|1 rue du 8 fevrier 1962 91549 sainte-geneviève-des-bois|\n",
      "|431 allees de craponne 13103 salon-de-provence         |\n",
      "|1 rue des bas rogers 92073 suresnes                    |\n",
      "+-------------------------------------------------------+\n",
      "only showing top 20 rows\n",
      "\n"
     ]
    },
    {
     "name": "stderr",
     "output_type": "stream",
     "text": [
      "                                                                                \r"
     ]
    }
   ],
   "source": [
    "#join enedis normaliser avec la base ban \n",
    "\n",
    "enedis_join_ban = enedis_normaliser.join(ban_normaliser.select(\"adresse_normalisee_insee\", \"id\"), enedis_normaliser.adresse_brute == ban_normaliser.adresse_normalisee_insee, how=\"left\")\n",
    "distinct_values = enedis_join_ban.select(\"adresse_brute\").distinct()\n",
    "distinct_values.show(truncate=False)\n"
   ]
  },
  {
   "cell_type": "code",
   "execution_count": 49,
   "id": "6d71b3ec-9337-4f8c-b22a-9b3144ee164a",
   "metadata": {},
   "outputs": [
    {
     "name": "stderr",
     "output_type": "stream",
     "text": [
      "                                                                                \r"
     ]
    },
    {
     "data": {
      "text/plain": [
       "423262"
      ]
     },
     "execution_count": 49,
     "metadata": {},
     "output_type": "execute_result"
    }
   ],
   "source": [
    "enedis_join_ban.count()"
   ]
  },
  {
   "cell_type": "code",
   "execution_count": 53,
   "id": "fd620f9a-0e4e-4112-ba13-aaa7f8dfd4d1",
   "metadata": {},
   "outputs": [
    {
     "name": "stderr",
     "output_type": "stream",
     "text": [
      "                                                                                \r"
     ]
    },
    {
     "data": {
      "text/plain": [
       "59999"
      ]
     },
     "execution_count": 53,
     "metadata": {},
     "output_type": "execute_result"
    }
   ],
   "source": [
    "dpe_join_ban.count()"
   ]
  },
  {
   "cell_type": "code",
   "execution_count": 51,
   "id": "d43b380b-6186-466b-8742-feeeb9154ef6",
   "metadata": {},
   "outputs": [
    {
     "name": "stderr",
     "output_type": "stream",
     "text": [
      "                                                                                \r"
     ]
    },
    {
     "name": "stdout",
     "output_type": "stream",
     "text": [
      "-RECORD 0-----------------------------------------------------------------------------------------------------------\n",
      " id                                                      | 10323_0690_00039                                         \n",
      " Conso_chauffage_dépensier_é_finale                      | 2971.3                                                   \n",
      " Emission_GES_ECS                                        | 159.8                                                    \n",
      " Type_énergie_n°1                                        | Électricité                                              \n",
      " Type_énergie_n°2                                        | NULL                                                     \n",
      " Nom__commune_(BAN)                                      | Romilly-sur-Seine                                        \n",
      " Coût_ECS_énergie_n°2                                    | NULL                                                     \n",
      " Emission_GES_chauffage                                  | 179.9                                                    \n",
      " Date_réception_DPE                                      | 2023-10-31                                               \n",
      " Coût_ECS_énergie_n°1                                    | 431.8                                                    \n",
      " Coût_total_5_usages                                     | 900.5                                                    \n",
      " Conso_ECS_é_finale                                      | 2457.8                                                   \n",
      " Emission_GES_5_usages                                   | 365.5                                                    \n",
      " Code_postal_(BAN)                                       | 10100                                                    \n",
      " Conso_éclairage_é_finale                                | 163                                                      \n",
      " Coût_refroidissement_dépensier                          | 0                                                        \n",
      " Coordonnée_cartographique_X_(BAN)                       | 753402.3                                                 \n",
      " Date_fin_validité_DPE                                   | 2033-10-29                                               \n",
      " Nombre_niveau_logement                                  | 1                                                        \n",
      " Emission_GES_refroidissement_dépensier                  | 0                                                        \n",
      " Type_bâtiment                                           | appartement                                              \n",
      " Conso_5_usages_par_m²_é_primaire                        | 131.7                                                    \n",
      " Coût_refroidissement                                    | 0                                                        \n",
      " Ubat_W/m²_K                                             | 0.49                                                     \n",
      " Coût_ECS_dépensier                                      | 531.6                                                    \n",
      " Coût_chauffage                                          | 400.1                                                    \n",
      " Emission_GES_auxiliaires                                | 14.6                                                     \n",
      " Emission_GES_5_usages_par_m²                            | 4                                                        \n",
      " Emission_GES_éclairage                                  | 11.2                                                     \n",
      " _geopoint                                               | 48.52098399935969,3.7231649340163124                     \n",
      " Conso_ECS_dépensier_é_primaire                          | 7112.4                                                   \n",
      " Conso_refroidissement_dépensier_é_finale                | 0                                                        \n",
      " Conso_ECS_dépensier_é_finale                            | 3092.3                                                   \n",
      " Adresse_(BAN)                                           | 39 Rue Henri Millet 10100 Romilly-sur-Seine              \n",
      " Version_DPE                                             | 2.3                                                      \n",
      " Date_visite_diagnostiqueur                              | 2023-08-23                                               \n",
      " Coût_ECS                                                | 431.8                                                    \n",
      " Nombre_niveau_immeuble                                  | 4                                                        \n",
      " Surface_habitable_immeuble                              | 1224.4                                                   \n",
      " Coût_éclairage                                          | 28.6                                                     \n",
      " Date_établissement_DPE                                  | 2023-10-30                                               \n",
      " Qualité_isolation_enveloppe                             | bonne                                                    \n",
      " N°_voie_(BAN)                                           | 39                                                       \n",
      " Emission_GES_chauffage_dépensier                        | 234.7                                                    \n",
      " N°DPE                                                   | 2310E3700321N                                            \n",
      " Conso_refroidissement_é_finale                          | 0                                                        \n",
      " Conso_chauffage_é_primaire                              | 5238.1                                                   \n",
      " Appartement_non_visité_(0/1)                            | NULL                                                     \n",
      " Conso_éclairage_é_primaire                              | 374.8                                                    \n",
      " Qualité_isolation_menuiseries                           | moyenne                                                  \n",
      " Qualité_isolation_murs                                  | très bonne                                               \n",
      " Conso_ECS_é_primaire                                    | 5653                                                     \n",
      " Emission_GES_5_usages_énergie_n°1                       | 365.5                                                    \n",
      " Emission_GES_5_usages_énergie_n°2                       | NULL                                                     \n",
      " Etiquette_GES                                           | A                                                        \n",
      " Conso_5_usages_é_finale_énergie_n°1                     | 5125.6                                                   \n",
      " Statut_géocodage                                        | adresse géocodée ban à l'adresse                         \n",
      " Conso_auxiliaires_é_primaire                            | 523                                                      \n",
      " Nombre_appartement                                      | 16                                                       \n",
      " Conso_auxiliaires_é_finale                              | 227.4                                                    \n",
      " Conso_chauffage_é_finale                                | 2277.4                                                   \n",
      " Coût_chauffage_dépensier                                | 510.8                                                    \n",
      " Modèle_DPE                                              | DPE 3CL 2021 méthode logement                            \n",
      " Etiquette_DPE                                           | C                                                        \n",
      " Conso_refroidissement_dépensier_é_primaire              | 0                                                        \n",
      " Nom__commune_(Brut)                                     | NULL                                                     \n",
      " Conso_5_usages_é_finale                                 | 5125.6                                                   \n",
      " N°_département_(BAN)                                    | 10                                                       \n",
      " Conso_refroidissement_é_primaire                        | 0                                                        \n",
      " Coût_chauffage_énergie_n°1                              | 400.1                                                    \n",
      " _i                                                      | 29210                                                    \n",
      " Méthode_application_DPE                                 | dpe appartement généré à partir des données DPE immeuble \n",
      " N°_région_(BAN)                                         | 44                                                       \n",
      " Coût_chauffage_énergie_n°2                              | NULL                                                     \n",
      " Qualité_isolation_plancher_bas                          | NULL                                                     \n",
      " Conso_5_usages/m²_é_finale                              | 57.3                                                     \n",
      " Hauteur_sous-plafond                                    | 2.5                                                      \n",
      " Identifiant__BAN                                        | 10323_0690_00039                                         \n",
      " Surface_habitable_logement                              | 89.5                                                     \n",
      " Code_postal_(brut)                                      | 10100                                                    \n",
      " Coût_auxiliaires                                        | 40                                                       \n",
      " Coordonnée_cartographique_Y_(BAN)                       | 6824771.42                                               \n",
      " _rand                                                   | 169467                                                   \n",
      " Nom__rue_(BAN)                                          | Rue Henri Millet                                         \n",
      " Conso_chauffage_dépensier_é_primaire                    | 6833.9                                                   \n",
      " Emission_GES_ECS_dépensier                              | 201                                                      \n",
      " Code_INSEE_(BAN)                                        | 10323                                                    \n",
      " Score_BAN                                               | 0.97                                                     \n",
      " Emission_GES_refroidissement                            | 0                                                        \n",
      " Conso_5_usages_é_primaire                               | 11789                                                    \n",
      " _score                                                  | NULL                                                     \n",
      " _id                                                     | F5kRX189XmVmvenKSI7Ea                                    \n",
      " Année                                                   | 2023                                                     \n",
      " adresse_normalisee                                      | 39 rue henri millet 10100 romilly-sur-seine              \n",
      " annee                                                   | 2021                                                     \n",
      " code_iris                                               | 103230101                                                \n",
      " nom_iris                                                | Romilly-sur-Seine 1 Nord-Ouest                           \n",
      " numero_de_voie                                          | 39                                                       \n",
      " indice_de_repetition                                    | NULL                                                     \n",
      " type_de_voie                                            | RUE                                                      \n",
      " libelle_de_voie                                         | HENRI MILLET                                             \n",
      " code_commune                                            | 10323                                                    \n",
      " nom_commune                                             | Romilly-sur-Seine                                        \n",
      " segment_de_client                                       | RESIDENTIEL                                              \n",
      " nombre_de_logements                                     | 16                                                       \n",
      " consommation_annuelle_totale_de_l_adresse_mwh           | 90.05                                                    \n",
      " consommation_annuelle_moyenne_par_site_de_l_adresse_mwh | 5.628                                                    \n",
      " consommation_annuelle_moyenne_de_la_commune_mwh         | 4.261                                                    \n",
      " adresse                                                 | 39 RUE HENRI MILLET                                      \n",
      " code_epci                                               | 200000545                                                \n",
      " code_departement                                        | 10                                                       \n",
      " code_region                                             | 44                                                       \n",
      " tri_des_adresses                                        | 314729                                                   \n",
      " adresse_normalisee_insee                                | 39 rue henri millet 10323 romilly-sur-seine              \n",
      "only showing top 1 row\n",
      "\n"
     ]
    }
   ],
   "source": [
    "#supprimer des colonnes (!! rajouter tt les colonnes qui ne sont pas necessaire)\n",
    "dpe_join_ban_cleaned = dpe_join_ban.drop('adresse_brute')\n",
    "\n",
    "enedis_join_ban_cleaned = enedis_join_ban.drop('adresse_brute')\n",
    "\n",
    "#jointure enedis et dpe sur l'id ban\n",
    "enedis_dpe_joind= enedis_join_ban_cleaned.join(dpe_join_ban_cleaned, dpe_join_ban_cleaned.id == enedis_join_ban_cleaned.id, how=\"inner\")\n",
    "\n",
    "#faire le select apres la jointure pour garder un seul id ban\n",
    "final_df = enedis_dpe_joind.select(\n",
    "    enedis_join_ban.id,\n",
    "    *[col for col in dpe_join_ban_cleaned.columns if col != \"id\"],\n",
    "    *[col for col in enedis_join_ban_cleaned.columns if col != \"id\"]\n",
    ")\n",
    "final_df.show(1,truncate=False,vertical=True)"
   ]
  },
  {
   "cell_type": "code",
   "execution_count": null,
   "id": "381532ee-3730-4224-b338-f2d43134af54",
   "metadata": {},
   "outputs": [],
   "source": [
    "# df = dpe_join_ban.filter(col('id').startswith('92002_8115'))\n",
    "# final_df.count()\n",
    "distinct_values = final_df.select(\"id\").distinct()\n",
    "distinct_values.show(truncate=False)"
   ]
  },
  {
   "cell_type": "code",
   "execution_count": 120,
   "id": "43cee1b3-dddf-4acc-afeb-dee7252aac95",
   "metadata": {},
   "outputs": [
    {
     "name": "stderr",
     "output_type": "stream",
     "text": [
      "                                                                                \r"
     ]
    },
    {
     "data": {
      "text/plain": [
       "1"
      ]
     },
     "execution_count": 120,
     "metadata": {},
     "output_type": "execute_result"
    }
   ],
   "source": [
    "df = enedis_join_ban_cleaned.filter(col('id').startswith('92071_3561_00004'))\n",
    "final_df.count()"
   ]
  },
  {
   "cell_type": "code",
   "execution_count": null,
   "id": "9dc27093-b651-4474-8690-547bf45dd4fc",
   "metadata": {},
   "outputs": [],
   "source": [
    "## netoyer le code et charger plus de données (voir comment faire pour télécharger la base des adresse total + le ficher parquet de enedis ) "
   ]
  },
  {
   "cell_type": "code",
   "execution_count": 55,
   "id": "4150df17-9b9e-4528-9521-cb25e73b5c54",
   "metadata": {},
   "outputs": [
    {
     "name": "stdout",
     "output_type": "stream",
     "text": [
      "root\n",
      " |-- id: string (nullable = true)\n",
      " |-- Conso_chauffage_dépensier_é_finale: string (nullable = true)\n",
      " |-- Emission_GES_ECS: string (nullable = true)\n",
      " |-- Type_énergie_n°1: string (nullable = true)\n",
      " |-- Type_énergie_n°2: string (nullable = true)\n",
      " |-- Nom__commune_(BAN): string (nullable = true)\n",
      " |-- Coût_ECS_énergie_n°2: string (nullable = true)\n",
      " |-- Emission_GES_chauffage: string (nullable = true)\n",
      " |-- Date_réception_DPE: string (nullable = true)\n",
      " |-- Coût_ECS_énergie_n°1: string (nullable = true)\n",
      " |-- Coût_total_5_usages: string (nullable = true)\n",
      " |-- Conso_ECS_é_finale: string (nullable = true)\n",
      " |-- Emission_GES_5_usages: string (nullable = true)\n",
      " |-- Code_postal_(BAN): string (nullable = true)\n",
      " |-- Conso_éclairage_é_finale: string (nullable = true)\n",
      " |-- Coût_refroidissement_dépensier: string (nullable = true)\n",
      " |-- Coordonnée_cartographique_X_(BAN): string (nullable = true)\n",
      " |-- Date_fin_validité_DPE: string (nullable = true)\n",
      " |-- Nombre_niveau_logement: string (nullable = true)\n",
      " |-- Emission_GES_refroidissement_dépensier: string (nullable = true)\n",
      " |-- Type_bâtiment: string (nullable = true)\n",
      " |-- Conso_5_usages_par_m²_é_primaire: string (nullable = true)\n",
      " |-- Coût_refroidissement: string (nullable = true)\n",
      " |-- Ubat_W/m²_K: string (nullable = true)\n",
      " |-- Coût_ECS_dépensier: string (nullable = true)\n",
      " |-- Coût_chauffage: string (nullable = true)\n",
      " |-- Emission_GES_auxiliaires: string (nullable = true)\n",
      " |-- Emission_GES_5_usages_par_m²: string (nullable = true)\n",
      " |-- Emission_GES_éclairage: string (nullable = true)\n",
      " |-- _geopoint: string (nullable = true)\n",
      " |-- Conso_ECS_dépensier_é_primaire: string (nullable = true)\n",
      " |-- Conso_refroidissement_dépensier_é_finale: string (nullable = true)\n",
      " |-- Conso_ECS_dépensier_é_finale: string (nullable = true)\n",
      " |-- Adresse_(BAN): string (nullable = true)\n",
      " |-- Version_DPE: string (nullable = true)\n",
      " |-- Date_visite_diagnostiqueur: string (nullable = true)\n",
      " |-- Coût_ECS: string (nullable = true)\n",
      " |-- Nombre_niveau_immeuble: string (nullable = true)\n",
      " |-- Surface_habitable_immeuble: string (nullable = true)\n",
      " |-- Coût_éclairage: string (nullable = true)\n",
      " |-- Date_établissement_DPE: string (nullable = true)\n",
      " |-- Qualité_isolation_enveloppe: string (nullable = true)\n",
      " |-- N°_voie_(BAN): string (nullable = true)\n",
      " |-- Emission_GES_chauffage_dépensier: string (nullable = true)\n",
      " |-- N°DPE: string (nullable = true)\n",
      " |-- Conso_refroidissement_é_finale: string (nullable = true)\n",
      " |-- Conso_chauffage_é_primaire: string (nullable = true)\n",
      " |-- Appartement_non_visité_(0/1): string (nullable = true)\n",
      " |-- Conso_éclairage_é_primaire: string (nullable = true)\n",
      " |-- Qualité_isolation_menuiseries: string (nullable = true)\n",
      " |-- Qualité_isolation_murs: string (nullable = true)\n",
      " |-- Conso_ECS_é_primaire: string (nullable = true)\n",
      " |-- Emission_GES_5_usages_énergie_n°1: string (nullable = true)\n",
      " |-- Emission_GES_5_usages_énergie_n°2: string (nullable = true)\n",
      " |-- Etiquette_GES: string (nullable = true)\n",
      " |-- Conso_5_usages_é_finale_énergie_n°1: string (nullable = true)\n",
      " |-- Statut_géocodage: string (nullable = true)\n",
      " |-- Conso_auxiliaires_é_primaire: string (nullable = true)\n",
      " |-- Nombre_appartement: string (nullable = true)\n",
      " |-- Conso_auxiliaires_é_finale: string (nullable = true)\n",
      " |-- Conso_chauffage_é_finale: string (nullable = true)\n",
      " |-- Coût_chauffage_dépensier: string (nullable = true)\n",
      " |-- Modèle_DPE: string (nullable = true)\n",
      " |-- Etiquette_DPE: string (nullable = true)\n",
      " |-- Conso_refroidissement_dépensier_é_primaire: string (nullable = true)\n",
      " |-- Nom__commune_(Brut): string (nullable = true)\n",
      " |-- Conso_5_usages_é_finale: string (nullable = true)\n",
      " |-- N°_département_(BAN): string (nullable = true)\n",
      " |-- Conso_refroidissement_é_primaire: string (nullable = true)\n",
      " |-- Coût_chauffage_énergie_n°1: string (nullable = true)\n",
      " |-- _i: integer (nullable = true)\n",
      " |-- Méthode_application_DPE: string (nullable = true)\n",
      " |-- N°_région_(BAN): string (nullable = true)\n",
      " |-- Coût_chauffage_énergie_n°2: string (nullable = true)\n",
      " |-- Qualité_isolation_plancher_bas: string (nullable = true)\n",
      " |-- Conso_5_usages/m²_é_finale: string (nullable = true)\n",
      " |-- Hauteur_sous-plafond: string (nullable = true)\n",
      " |-- Identifiant__BAN: string (nullable = true)\n",
      " |-- Surface_habitable_logement: string (nullable = true)\n",
      " |-- Code_postal_(brut): string (nullable = true)\n",
      " |-- Coût_auxiliaires: string (nullable = true)\n",
      " |-- Coordonnée_cartographique_Y_(BAN): string (nullable = true)\n",
      " |-- _rand: string (nullable = true)\n",
      " |-- Nom__rue_(BAN): string (nullable = true)\n",
      " |-- Conso_chauffage_dépensier_é_primaire: string (nullable = true)\n",
      " |-- Emission_GES_ECS_dépensier: string (nullable = true)\n",
      " |-- Code_INSEE_(BAN): string (nullable = true)\n",
      " |-- Score_BAN: string (nullable = true)\n",
      " |-- Emission_GES_refroidissement: string (nullable = true)\n",
      " |-- Conso_5_usages_é_primaire: string (nullable = true)\n",
      " |-- _score: string (nullable = true)\n",
      " |-- _id: string (nullable = true)\n",
      " |-- Année: integer (nullable = true)\n",
      " |-- adresse_normalisee: string (nullable = false)\n",
      " |-- annee: string (nullable = true)\n",
      " |-- code_iris: string (nullable = true)\n",
      " |-- nom_iris: string (nullable = true)\n",
      " |-- numero_de_voie: string (nullable = true)\n",
      " |-- indice_de_repetition: string (nullable = true)\n",
      " |-- type_de_voie: string (nullable = true)\n",
      " |-- libelle_de_voie: string (nullable = true)\n",
      " |-- code_commune: string (nullable = true)\n",
      " |-- nom_commune: string (nullable = true)\n",
      " |-- segment_de_client: string (nullable = true)\n",
      " |-- nombre_de_logements: string (nullable = true)\n",
      " |-- consommation_annuelle_totale_de_l_adresse_mwh: string (nullable = true)\n",
      " |-- consommation_annuelle_moyenne_par_site_de_l_adresse_mwh: string (nullable = true)\n",
      " |-- consommation_annuelle_moyenne_de_la_commune_mwh: string (nullable = true)\n",
      " |-- adresse: string (nullable = true)\n",
      " |-- code_epci: string (nullable = true)\n",
      " |-- code_departement: string (nullable = true)\n",
      " |-- code_region: string (nullable = true)\n",
      " |-- tri_des_adresses: string (nullable = true)\n",
      " |-- adresse_normalisee_insee: string (nullable = true)\n",
      "\n"
     ]
    }
   ],
   "source": [
    "final_df.printSchema()"
   ]
  },
  {
   "cell_type": "code",
   "execution_count": 56,
   "id": "678dbaa5-aee4-427c-a7b0-d6b9391b1559",
   "metadata": {},
   "outputs": [
    {
     "name": "stderr",
     "output_type": "stream",
     "text": [
      "24/08/29 18:33:48 ERROR StandaloneSchedulerBackend: Application has been killed. Reason: Master removed our application: KILLED\n",
      "24/08/29 18:33:48 ERROR Inbox: Ignoring error\n",
      "org.apache.spark.SparkException: Exiting due to error from cluster scheduler: Master removed our application: KILLED\n",
      "\tat org.apache.spark.errors.SparkCoreErrors$.clusterSchedulerError(SparkCoreErrors.scala:291)\n",
      "\tat org.apache.spark.scheduler.TaskSchedulerImpl.error(TaskSchedulerImpl.scala:981)\n",
      "\tat org.apache.spark.scheduler.cluster.StandaloneSchedulerBackend.dead(StandaloneSchedulerBackend.scala:165)\n",
      "\tat org.apache.spark.deploy.client.StandaloneAppClient$ClientEndpoint.markDead(StandaloneAppClient.scala:263)\n",
      "\tat org.apache.spark.deploy.client.StandaloneAppClient$ClientEndpoint$$anonfun$receive$1.applyOrElse(StandaloneAppClient.scala:170)\n",
      "\tat org.apache.spark.rpc.netty.Inbox.$anonfun$process$1(Inbox.scala:115)\n",
      "\tat org.apache.spark.rpc.netty.Inbox.safelyCall(Inbox.scala:213)\n",
      "\tat org.apache.spark.rpc.netty.Inbox.process(Inbox.scala:100)\n",
      "\tat org.apache.spark.rpc.netty.MessageLoop.org$apache$spark$rpc$netty$MessageLoop$$receiveLoop(MessageLoop.scala:75)\n",
      "\tat org.apache.spark.rpc.netty.MessageLoop$$anon$1.run(MessageLoop.scala:41)\n",
      "\tat java.base/java.util.concurrent.ThreadPoolExecutor.runWorker(ThreadPoolExecutor.java:1136)\n",
      "\tat java.base/java.util.concurrent.ThreadPoolExecutor$Worker.run(ThreadPoolExecutor.java:635)\n",
      "\tat java.base/java.lang.Thread.run(Thread.java:840)\n"
     ]
    }
   ],
   "source": [
    "output_path = \"/hadoop/dfs/data/dpe_join_enedis.csv\"\n",
    "\n",
    "# Écrire le DataFrame en tant que fichier CSV\n",
    "final_df.write.csv(output_path, header=True, mode='overwrite')"
   ]
  },
  {
   "cell_type": "code",
   "execution_count": 122,
   "id": "62ee4607-2299-4555-a059-e21a0a7c8bd2",
   "metadata": {},
   "outputs": [],
   "source": [
    "spark.stop()"
   ]
  }
 ],
 "metadata": {
  "kernelspec": {
   "display_name": "Python 3 (ipykernel)",
   "language": "python",
   "name": "python3"
  },
  "language_info": {
   "codemirror_mode": {
    "name": "ipython",
    "version": 3
   },
   "file_extension": ".py",
   "mimetype": "text/x-python",
   "name": "python",
   "nbconvert_exporter": "python",
   "pygments_lexer": "ipython3",
   "version": "3.11.6"
  }
 },
 "nbformat": 4,
 "nbformat_minor": 5
}
