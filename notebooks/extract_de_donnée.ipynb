{
 "cells": [
  {
   "cell_type": "code",
   "execution_count": 49,
   "id": "fd4480b9-63ff-491b-b954-0aabd7ccd189",
   "metadata": {},
   "outputs": [],
   "source": [
    "from pyspark.sql import SparkSession\n",
    "from pyspark.sql.functions import concat_ws, col, lower, regexp_replace\n",
    "\n",
    "spark = SparkSession.builder \\\n",
    ".appName('dpe_existants_rawdata_dl_job') \\\n",
    ".master('spark://spark-master:7077') \\\n",
    ".config(\"spark.hadoop.fs.defaultFS\", \"hdfs://namenode:9000\") \\\n",
    ".config('spark.ui.port', '4041') \\\n",
    ".getOrCreate()"
   ]
  },
  {
   "cell_type": "code",
   "execution_count": null,
   "id": "e10e39b4-80c4-47ff-b6cc-f33af8a55eea",
   "metadata": {},
   "outputs": [],
   "source": [
    "enedis = spark.read.csv('hdfs:///hadoop/dfs/data/enedis/raw_data/consommation-annuelle-residentielle_2021.csv',sep=';',header=True)\n",
    "dpe = spark.read.parquet('hdfs:///hadoop/dfs/data/DPE/raw_data/dpe_logements_existants')\n",
    "ban = spark.read.csv('hdfs:///hadoop/dfs/data/base-adresse-national/adresses-92.csv',sep=';',header=True)\n",
    "\n",
    "dpe_filtrer = dpe.filter(col('Code_postal_(BAN)').startswith('92'))\n",
    "enedis_filtrer = enedis.filter(col('code_commune').startswith('92'))\n"
   ]
  },
  {
   "cell_type": "code",
   "execution_count": null,
   "id": "2aa18d74-003e-4403-a8ec-3114c2286ff6",
   "metadata": {},
   "outputs": [],
   "source": [
    "# Normalisation des adresses\n",
    "df = enedis_filtrer.withColumn(\"adresse_brute\", concat_ws(\" \",\n",
    "    col(\"adresse\"),\n",
    "    col(\"code_commune\"),\n",
    "    col(\"nom_commune\")\n",
    "))\n",
    "enedis_normaliser = df.withColumn(\"adresse_brute\", lower(regexp_replace(col(\"adresse_brute\"), r\"\\s+\", \" \")))\n",
    "distinct_values = enedis_normaliser.select(\"adresse_brute\").distinct()\n",
    "distinct_values.show(truncate=False)\n",
    "\n",
    "df2 = dpe_filtrer.withColumn(\"adresse_brute\", concat_ws(\" \",\n",
    "    col('N°_voie_(BAN)'),\n",
    "    col(\"Nom__rue_(BAN)\"),\n",
    "    col(\"Code_postal_(BAN)\"),\n",
    "    col(\"Nom__commune_(BAN)\")\n",
    "))\n",
    "dpe_normaliser = df2.withColumn(\"adresse_brute\", lower(regexp_replace(col(\"adresse_brute\"), r\"\\s+\", \" \")))\n",
    "distinct_values = dpe_normaliser.select(\"adresse_brute\").distinct()\n",
    "distinct_values.show(truncate=False)\n",
    "\n",
    "# Création d'une colonne adresse normalisée dans le DataFrame de la BAN\n",
    "ban_df = ban.withColumn(\"adresse_normalisee\", concat_ws(\" \",\n",
    "    col(\"numero\"),\n",
    "    col(\"rep\"),\n",
    "    col(\"nom_voie\"),\n",
    "    col(\"code_postal\"),\n",
    "    col(\"nom_commune\")\n",
    "))\n",
    "ban_normaliser = ban_df.withColumn(\"adresse_normalisee\", lower(regexp_replace(col(\"adresse_normalisee\"), r\"\\s+\", \" \")))\n",
    "distinct_values = ban_normaliser.select(\"adresse_normalisee\").distinct()\n",
    "distinct_values.show(truncate=False)\n",
    "\n",
    "# Création d'une colonne adresse normalisée dans le DataFrame de la BAN\n",
    "ban_df = ban.withColumn(\"adresse_normalisee_insee\", concat_ws(\" \",\n",
    "    col(\"numero\"),\n",
    "    col(\"rep\"),\n",
    "    col(\"nom_voie\"),\n",
    "    col(\"code_insee\"),\n",
    "    col(\"nom_commune\")\n",
    "))\n",
    "ban_normaliser = ban_df.withColumn(\"adresse_normalisee_insee\", lower(regexp_replace(col(\"adresse_normalisee_insee\"), r\"\\s+\", \" \")))\n",
    "distinct_values = ban_normaliser.select(\"adresse_normalisee_insee\").distinct()\n",
    "distinct_values.show(truncate=False)"
   ]
  },
  {
   "cell_type": "code",
   "execution_count": 64,
   "id": "5dbf7453-e7f5-4485-aef9-f7d71a26381d",
   "metadata": {},
   "outputs": [
    {
     "name": "stdout",
     "output_type": "stream",
     "text": [
      "+----------------+\n",
      "|id              |\n",
      "+----------------+\n",
      "|92012_7205_00026|\n",
      "|92046_7150_00056|\n",
      "|92035_4115_00005|\n",
      "|92020_3100_00005|\n",
      "|92064_0620_00009|\n",
      "|92007_0070_00250|\n",
      "|92050_7170_00082|\n",
      "|92004_5175_00008|\n",
      "|92073_4785_00003|\n",
      "|92048_1327_00015|\n",
      "|92049_0045_00083|\n",
      "|92050_0015_00020|\n",
      "|92051_4170_00018|\n",
      "|92062_9635_00024|\n",
      "|92012_1415_00026|\n",
      "|92062_9620_00110|\n",
      "|92025_0025_00091|\n",
      "|92050_0015_00016|\n",
      "|92002_6800_00006|\n",
      "|92063_1555_00009|\n",
      "+----------------+\n",
      "only showing top 20 rows\n",
      "\n"
     ]
    }
   ],
   "source": [
    "#join dpe normaliser avec la base ban \n",
    "dpe_join_ban = dpe_normaliser.join(ban_normaliser.select(\"adresse_normalisee\", \"id\"), dpe_normaliser.adresse_brute == ban_normaliser.adresse_normalisee, how=\"left\")\n",
    "distinct_values = dpe_join_ban.select(\"id\").distinct()\n",
    "distinct_values.show(truncate=False)"
   ]
  },
  {
   "cell_type": "code",
   "execution_count": 112,
   "id": "6eb22bfa-f859-4cde-ab2f-9d187a6d690b",
   "metadata": {},
   "outputs": [
    {
     "name": "stderr",
     "output_type": "stream",
     "text": [
      "[Stage 211:==============================================>        (16 + 3) / 19]\r"
     ]
    },
    {
     "name": "stdout",
     "output_type": "stream",
     "text": [
      "+----------------------------------------------------+\n",
      "|adresse_brute                                       |\n",
      "+----------------------------------------------------+\n",
      "|14 rue francoise barre sinoussi 92023 clamart       |\n",
      "|197 avenue achille peretti 92051 neuilly-sur-seine  |\n",
      "|3 rue paul deroulede 92051 neuilly-sur-seine        |\n",
      "|43 avenue pablo picasso 92050 nanterre              |\n",
      "|18 t rue paul bert 92040 issy-les-moulineaux        |\n",
      "|5 rue des paradis 92032 fontenay-aux-roses          |\n",
      "|85 rue des hautes bievres 92002 antony              |\n",
      "|1 avenue d argenteuil 92004 asnières-sur-seine      |\n",
      "|14 place des victoires 92004 asnières-sur-seine     |\n",
      "|2 rue voltaire 92062 puteaux                        |\n",
      "|53 rue du trosy 92023 clamart                       |\n",
      "|202 b avenue jean jaures 92023 clamart              |\n",
      "|17 residence les taratres 92063 rueil-malmaison     |\n",
      "|32 rue du capitaine ferber 92040 issy-les-moulineaux|\n",
      "|8 villa haussmann 92040 issy-les-moulineaux         |\n",
      "|48 rue velpeau 92002 antony                         |\n",
      "|50 rue gabriel peri 92020 châtillon                 |\n",
      "|3 square de fontenay 92023 clamart                  |\n",
      "|12 allee camelinat 92050 nanterre                   |\n",
      "|47 rue raymond poincare 92050 nanterre              |\n",
      "+----------------------------------------------------+\n",
      "only showing top 20 rows\n",
      "\n"
     ]
    },
    {
     "name": "stderr",
     "output_type": "stream",
     "text": [
      "                                                                                \r"
     ]
    }
   ],
   "source": [
    "#join enedis normaliser avec la base ban \n",
    "\n",
    "enedis_join_ban = enedis_normaliser.join(ban_normaliser.select(\"adresse_normalisee_insee\", \"id\"), enedis_normaliser.adresse_brute == ban_normaliser.adresse_normalisee_insee                         , how=\"left\")\n",
    "distinct_values = enedis_join_ban.select(\"adresse_brute\").distinct()\n",
    "distinct_values.show(truncate=False)\n"
   ]
  },
  {
   "cell_type": "code",
   "execution_count": null,
   "id": "d43b380b-6186-466b-8742-feeeb9154ef6",
   "metadata": {},
   "outputs": [],
   "source": [
    "#supprimer des colonnes (!! rajouter tt les colonnes qui ne sont pas necessaire)\n",
    "dpe_join_ban_cleaned = dpe_join_ban.drop('adresse_brute')\n",
    "enedis_join_ban_cleaned = enedis_join_ban.drop('adresse_brute')\n",
    "\n",
    "#jointure enedis et dpe sur l'id ban\n",
    "enedis_dpe_joind= enedis_join_ban_cleaned.join(dpe_join_ban_cleaned, dpe_join_ban_cleaned.id == enedis_join_ban_cleaned.id, how=\"inner\")\n",
    "\n",
    "#faire le select apres la jointure pour garder un seul id ban\n",
    "final_df = enedis_dpe_joind_cleaned.select(\n",
    "    enedis_join_ban.id,\n",
    "    *[col for col in dpe_join_ban_cleaned.columns if col != \"id\"],\n",
    "    *[col for col in enedis_join_ban_cleaned.columns if col != \"id\"]\n",
    ")\n",
    "final_df.show(1,truncate=False,vertical=True)"
   ]
  },
  {
   "cell_type": "code",
   "execution_count": 117,
   "id": "381532ee-3730-4224-b338-f2d43134af54",
   "metadata": {},
   "outputs": [
    {
     "name": "stderr",
     "output_type": "stream",
     "text": [
      "[Stage 227:====================================================>  (18 + 1) / 19]\r"
     ]
    },
    {
     "name": "stdout",
     "output_type": "stream",
     "text": [
      "+----------------+\n",
      "|id              |\n",
      "+----------------+\n",
      "|92071_3561_00004|\n",
      "|92024_0050_00005|\n",
      "|92048_2560_00001|\n",
      "|92040_4735_00247|\n",
      "|92004_5175_00008|\n",
      "|92049_0045_00083|\n",
      "|92078_4410_00001|\n",
      "|92002_2520_00112|\n",
      "|92012_4140_00025|\n",
      "|92050_8568_00002|\n",
      "|92024_6140_00144|\n",
      "|92071_5141_00014|\n",
      "|92073_7160_00058|\n",
      "|92026_0077_00002|\n",
      "|92078_4410_00047|\n",
      "|92035_9615_00003|\n",
      "|92073_4125_00144|\n",
      "|92012_1435_00032|\n",
      "|92050_7170_00082|\n",
      "|92050_0015_00020|\n",
      "+----------------+\n",
      "only showing top 20 rows\n",
      "\n"
     ]
    },
    {
     "name": "stderr",
     "output_type": "stream",
     "text": [
      "                                                                                \r"
     ]
    }
   ],
   "source": [
    "# df = dpe_join_ban.filter(col('id').startswith('92002_8115'))\n",
    "# final_df.count()\n",
    "distinct_values = final_df.select(\"id\").distinct()\n",
    "distinct_values.show(truncate=False)"
   ]
  },
  {
   "cell_type": "code",
   "execution_count": 120,
   "id": "43cee1b3-dddf-4acc-afeb-dee7252aac95",
   "metadata": {},
   "outputs": [
    {
     "name": "stderr",
     "output_type": "stream",
     "text": [
      "                                                                                \r"
     ]
    },
    {
     "data": {
      "text/plain": [
       "1"
      ]
     },
     "execution_count": 120,
     "metadata": {},
     "output_type": "execute_result"
    }
   ],
   "source": [
    "df = enedis_join_ban_cleaned.filter(col('id').startswith('92071_3561_00004'))\n",
    "final_df.count()"
   ]
  },
  {
   "cell_type": "code",
   "execution_count": null,
   "id": "9dc27093-b651-4474-8690-547bf45dd4fc",
   "metadata": {},
   "outputs": [],
   "source": [
    "## netoyer le code et charger plus de données (voir comment faire pour télécharger la base des adresse total + le ficher parquet de enedis ) "
   ]
  },
  {
   "cell_type": "code",
   "execution_count": 121,
   "id": "4150df17-9b9e-4528-9521-cb25e73b5c54",
   "metadata": {},
   "outputs": [
    {
     "name": "stderr",
     "output_type": "stream",
     "text": [
      "                                                                                \r"
     ]
    },
    {
     "data": {
      "text/plain": [
       "91"
      ]
     },
     "execution_count": 121,
     "metadata": {},
     "output_type": "execute_result"
    }
   ],
   "source": [
    "final_df.count()"
   ]
  }
 ],
 "metadata": {
  "kernelspec": {
   "display_name": "Python 3 (ipykernel)",
   "language": "python",
   "name": "python3"
  },
  "language_info": {
   "codemirror_mode": {
    "name": "ipython",
    "version": 3
   },
   "file_extension": ".py",
   "mimetype": "text/x-python",
   "name": "python",
   "nbconvert_exporter": "python",
   "pygments_lexer": "ipython3",
   "version": "3.11.6"
  }
 },
 "nbformat": 4,
 "nbformat_minor": 5
}
